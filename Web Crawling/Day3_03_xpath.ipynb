{
 "cells": [
  {
   "cell_type": "markdown",
   "id": "1f47dd12",
   "metadata": {},
   "source": [
    "### xpath\n",
    "- html element 선택하는 방법\n",
    "- scrapy 에서 기본적으로 사용하는 selector\n"
   ]
  },
  {
   "cell_type": "code",
   "execution_count": 2,
   "id": "c073b7af",
   "metadata": {},
   "outputs": [],
   "source": [
    "# install scrapy\n",
    "# !pip install scrapy"
   ]
  },
  {
   "cell_type": "code",
   "execution_count": 1,
   "id": "06f4702a",
   "metadata": {},
   "outputs": [],
   "source": [
    "import scrapy, requests\n",
    "from scrapy.http import TextResponse # scrapy에서 xpath를 사용할 수 있게 함"
   ]
  },
  {
   "cell_type": "code",
   "execution_count": 2,
   "id": "db17e75c",
   "metadata": {},
   "outputs": [],
   "source": [
    "# 네이버 연관검색어 수집\n",
    "query = 'kt'\n",
    "url = f\"https://search.naver.com/search.naver?query={query}\""
   ]
  },
  {
   "cell_type": "code",
   "execution_count": 3,
   "id": "b81374ae",
   "metadata": {},
   "outputs": [],
   "source": [
    "response = requests.get(url)\n",
    "dom = TextResponse(response.url, body=response.text, encoding=\"utf-8\")"
   ]
  },
  {
   "cell_type": "code",
   "execution_count": 5,
   "id": "4dffad66",
   "metadata": {},
   "outputs": [],
   "source": [
    "# xpath syntax\n",
    "# ex. //*[@id=\"nx_footer_related_keywords\"]/div/div[2]/ul/li[1]/a/div"
   ]
  },
  {
   "cell_type": "code",
   "execution_count": 8,
   "id": "8340ada1",
   "metadata": {},
   "outputs": [],
   "source": [
    "# // : 최상위 엘리먼트\n",
    "# * : 모든 하위 엘리먼트 : css selector의 한칸 띄우기와 동일 (.wrap p = wrap class 내 모든 p)\n",
    "# [@id=\"value\"] : 속성값으로 element 선택(id, class 종류 상관 X)\n",
    "# / : 한단계 하위 엘리먼트 : css selector의 >와 동일 (.wrap > p)\n",
    "# [n] : nth-child(n)"
   ]
  },
  {
   "cell_type": "code",
   "execution_count": 4,
   "id": "d8cc595f",
   "metadata": {},
   "outputs": [
    {
     "data": {
      "text/plain": [
       "[<Selector xpath='//*[@id=\"nx_footer_related_keywords\"]/div/div[2]/ul/li[1]/a/div' data='<div class=\"tit\">삼성전자</div>'>]"
      ]
     },
     "execution_count": 4,
     "metadata": {},
     "output_type": "execute_result"
    }
   ],
   "source": [
    "dom.xpath('//*[@id=\"nx_footer_related_keywords\"]/div/div[2]/ul/li[1]/a/div')"
   ]
  },
  {
   "cell_type": "code",
   "execution_count": 6,
   "id": "1a501e59",
   "metadata": {},
   "outputs": [
    {
     "data": {
      "text/plain": [
       "[<Selector xpath='//*[@id=\"nx_footer_related_keywords\"]/div/div[2]/ul/li/a/div' data='<div class=\"tit\">삼성전자</div>'>,\n",
       " <Selector xpath='//*[@id=\"nx_footer_related_keywords\"]/div/div[2]/ul/li/a/div' data='<div class=\"tit\">kt 고객센터</div>'>]"
      ]
     },
     "execution_count": 6,
     "metadata": {},
     "output_type": "execute_result"
    }
   ],
   "source": [
    "dom.xpath('//*[@id=\"nx_footer_related_keywords\"]/div/div[2]/ul/li/a/div')[:2] # \n",
    "# li 뒤에 [n] 제외시 모든 li의 a/div 수집 -> scrapy > TextRespose()에서만 동작\n",
    "# selenium에서의 xpath는 for를 사용하여 데이터 수집해야함"
   ]
  },
  {
   "cell_type": "code",
   "execution_count": 8,
   "id": "12ab1bdc",
   "metadata": {},
   "outputs": [
    {
     "data": {
      "text/plain": [
       "['삼성전자',\n",
       " 'kt 고객센터',\n",
       " 'kt 인터넷',\n",
       " 'ky',\n",
       " '환율',\n",
       " 'kt 대리점',\n",
       " 'kr',\n",
       " '날씨',\n",
       " 'SKT',\n",
       " 'kt 고객센터 전화번호']"
      ]
     },
     "execution_count": 8,
     "metadata": {},
     "output_type": "execute_result"
    }
   ],
   "source": [
    "dom.xpath('//*[@id=\"nx_footer_related_keywords\"]/div/div[2]/ul/li/a/div/text()').extract()"
   ]
  }
 ],
 "metadata": {
  "kernelspec": {
   "display_name": "Python 3.9.13 64-bit",
   "language": "python",
   "name": "python3"
  },
  "language_info": {
   "codemirror_mode": {
    "name": "ipython",
    "version": 3
   },
   "file_extension": ".py",
   "mimetype": "text/x-python",
   "name": "python",
   "nbconvert_exporter": "python",
   "pygments_lexer": "ipython3",
   "version": "3.9.13"
  },
  "toc": {
   "base_numbering": 1,
   "nav_menu": {},
   "number_sections": false,
   "sideBar": true,
   "skip_h1_title": false,
   "title_cell": "Table of Contents",
   "title_sidebar": "Contents",
   "toc_cell": false,
   "toc_position": {},
   "toc_section_display": true,
   "toc_window_display": false
  },
  "vscode": {
   "interpreter": {
    "hash": "cf92aa13fedf815d5c8dd192b8d835913fde3e8bc926b2a0ad6cc74ef2ba3ca2"
   }
  }
 },
 "nbformat": 4,
 "nbformat_minor": 5
}
