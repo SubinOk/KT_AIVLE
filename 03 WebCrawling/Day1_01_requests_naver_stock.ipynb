{
 "cells": [
  {
   "cell_type": "markdown",
   "id": "a2843caf",
   "metadata": {},
   "source": [
    "## Web Crawing\n",
    "- 웹 페이지에서 데이터를 수집하는 방법에 대해서 학습"
   ]
  },
  {
   "cell_type": "markdown",
   "id": "193e82cc",
   "metadata": {},
   "source": [
    "### 웹크롤링 방법\n",
    "\n",
    "#### 웹페이지의 종류\n",
    "- 정적인 페이지 : 웹 브라우져에 화면이 한번 뜨면 이벤트에 의한 화면의 변경이 없는 페이지\n",
    "(페이지의 데이터가 변경될 때 URL이 변경) -> HTML\n",
    "- 동적인 페이지 : 웹 브라우져에 화면이 뜨고 이벤트가 발생하면 서버에서 데이터를 가져와 화면을 변경하는 페이지 (페이지의 데이터가 변경될 때 URL이 변경되지 않음) -> JSON\n",
    "\n",
    "#### requests package (in python)\n",
    "- 브라우저의 URL을 입력하면 서버에서 데이터를 다운받아 화면에 출력: URL -> Data\n",
    "- requests package: URL -> Data\n",
    "\n",
    "#### requests 이용\n",
    "- 받아오는 문자열에 따라 두가지 방법으로 구분\n",
    "    - json 문자열로 받아서 파싱하는 방법 : 주로 동적 페이지 크롤링할때 사용 \n",
    "    - html 문자열로 받아서 파싱하는 방법 : 주로 정적 페이지 크롤링할때 사용\n",
    "        \n",
    "#### selenium 이용\n",
    "- 브라우져를 직접 열어서 데이터를 받는 방법\n",
    "\n",
    "#### 크롤링 방법에 따른 속도\n",
    "- requests json > requests html > selenium"
   ]
  },
  {
   "cell_type": "markdown",
   "id": "c9c2b3eb",
   "metadata": {},
   "source": [
    "### Crwaling Naver Stock Datas\n",
    "- 네이버 증권 사이트(https://m.stock.naver.com/)에서 주가 데이터 수집\n",
    "- 수집할 데이터 : 일별 kospi, kosdaq 지수, 일별 원달러(USD) 환율(exchange rate) 데이터\n",
    "- 데이터 수집 절차\n",
    "    - 웹서비스 분석 : url\n",
    "    - 서버에 데이터 요청 : request(url) > response : json(str)\n",
    "    - 서버에서 받은 데이터 파싱(데이터 형태를 변경) : json(str) > list, dict > DataFrame"
   ]
  },
  {
   "cell_type": "code",
   "execution_count": 1,
   "id": "6d247b54",
   "metadata": {},
   "outputs": [],
   "source": [
    "import pandas as pd\n",
    "import requests"
   ]
  },
  {
   "cell_type": "markdown",
   "id": "e9946ce1",
   "metadata": {},
   "source": [
    "#### 1. 웹서비스 분석 : url\n",
    "- 크롬 개발자 도구(단축키: F12) 사용하여 url 탐색\n",
    "    - 네트워크 탭에서 전체 초기화 후 버튼을 눌렀을 때 새로 생기는 url 찾기\n",
    "    - 해당 url의 헤더 탭에서 url, 메서드, 상태 코드 등의 정보 얻을 수 있음\n",
    "    - 해당 url의 미리보기/응답 탭에서 어떤 정보를 가져올 수 있는지 볼 수 있음\n",
    "- pc 웹페이지가 복잡하면 mobile 웹페이지에서 수집 -> 개발자 도구에서 Device 변경 후 새로고침\n",
    "    - 새로고침 안 될경우 주소창 다시 입력 후 엔터"
   ]
  },
  {
   "cell_type": "code",
   "execution_count": 2,
   "id": "b45f4e59",
   "metadata": {},
   "outputs": [
    {
     "name": "stdout",
     "output_type": "stream",
     "text": [
      "https://m.stock.naver.com/api/index/KOSPI/price?pageSize=10&page=1\n"
     ]
    }
   ],
   "source": [
    "page, page_size = 1, 10 # 1 페이지의 10개 정보\n",
    "url = f'https://m.stock.naver.com/api/index/KOSPI/price?pageSize={page_size}&page={page}'\n",
    "print(url)"
   ]
  },
  {
   "cell_type": "markdown",
   "id": "45b9c484",
   "metadata": {},
   "source": [
    "#### 2. 서버에 데이터 요청 : request(url) > response : json(str)\n",
    "- response의 status code가 200이 나오는지 확인\n",
    "- 403이나 500이 나오면 request가 잘못되거나 web server에서 수집이 안되도록 설정이 된것임\n",
    "    - header 설정 또는 selenium 사용\n",
    "- 200이 나오더라도 response 안에 있는 내용을 확인 > 확인하는 방법 : response.text"
   ]
  },
  {
   "cell_type": "code",
   "execution_count": 3,
   "id": "24466183",
   "metadata": {},
   "outputs": [
    {
     "data": {
      "text/plain": [
       "<Response [200]>"
      ]
     },
     "execution_count": 3,
     "metadata": {},
     "output_type": "execute_result"
    }
   ],
   "source": [
    "response = requests.get(url) # url에 맞는 함수(get/post) 사용하여 객체에 저장\n",
    "response"
   ]
  },
  {
   "cell_type": "code",
   "execution_count": 4,
   "id": "5b7d3057",
   "metadata": {},
   "outputs": [
    {
     "data": {
      "text/plain": [
       "'[{\"localTradedAt\":\"2022-08-03\",\"closePrice\":\"2,452.34\",\"compareToPreviousClosePrice\":\"12.72\",\"compareToPreviousPrice\":{\"code\":\"2\",\"text\":\"상승\",\"name\":\"RISING\"},\"fluctuationsRatio\":\"0.52\",\"openPrice\":\"2'"
      ]
     },
     "execution_count": 4,
     "metadata": {},
     "output_type": "execute_result"
    }
   ],
   "source": [
    "response.text[:200] # 리스트 내에 딕셔너리 자료형 -> string 으로 반환"
   ]
  },
  {
   "cell_type": "markdown",
   "id": "2ab0fb67",
   "metadata": {},
   "source": [
    "#### 3. 서버에서 받은 데이터 파싱(데이터 형태를 변경) : json(str) > list, dict > DataFrame"
   ]
  },
  {
   "cell_type": "code",
   "execution_count": 5,
   "id": "e547ce3c",
   "metadata": {},
   "outputs": [
    {
     "data": {
      "text/html": [
       "<div>\n",
       "<style scoped>\n",
       "    .dataframe tbody tr th:only-of-type {\n",
       "        vertical-align: middle;\n",
       "    }\n",
       "\n",
       "    .dataframe tbody tr th {\n",
       "        vertical-align: top;\n",
       "    }\n",
       "\n",
       "    .dataframe thead th {\n",
       "        text-align: right;\n",
       "    }\n",
       "</style>\n",
       "<table border=\"1\" class=\"dataframe\">\n",
       "  <thead>\n",
       "    <tr style=\"text-align: right;\">\n",
       "      <th></th>\n",
       "      <th>localTradedAt</th>\n",
       "      <th>closePrice</th>\n",
       "    </tr>\n",
       "  </thead>\n",
       "  <tbody>\n",
       "    <tr>\n",
       "      <th>18</th>\n",
       "      <td>2022-06-14</td>\n",
       "      <td>2,492.97</td>\n",
       "    </tr>\n",
       "    <tr>\n",
       "      <th>19</th>\n",
       "      <td>2022-06-13</td>\n",
       "      <td>2,504.51</td>\n",
       "    </tr>\n",
       "  </tbody>\n",
       "</table>\n",
       "</div>"
      ],
      "text/plain": [
       "   localTradedAt closePrice\n",
       "18    2022-06-14   2,492.97\n",
       "19    2022-06-13   2,504.51"
      ]
     },
     "execution_count": 5,
     "metadata": {},
     "output_type": "execute_result"
    }
   ],
   "source": [
    "columns = [\"localTradedAt\", \"closePrice\"]\n",
    "datas = response.json() # list 자료형으로 변환 -> 딕셔너리 하나가 raw data\n",
    "kospi_df = pd.DataFrame(datas)[columns] # columns 선택하지 않을 시 모든 행 포함\n",
    "kospi_df.tail(2)"
   ]
  },
  {
   "cell_type": "markdown",
   "id": "a5806ae9",
   "metadata": {},
   "source": [
    "#### 4. 함수로 만들기"
   ]
  },
  {
   "cell_type": "code",
   "execution_count": 21,
   "id": "75e0dd60",
   "metadata": {},
   "outputs": [],
   "source": [
    "def stock_price(code=\"KOSPI\", page=1, page_size=60):\n",
    "    \"\"\"\n",
    "    This function is crwaling stock price from naver stock web page\n",
    "    \n",
    "    parameters:\n",
    "        code(str): KOSPI or KOSDAQ\n",
    "        page(int): page number\n",
    "        page_size(int): one page size\n",
    "    \n",
    "    return:\n",
    "        type: DataFame(pandas) : display date, price columns\n",
    "    \"\"\"\n",
    "    url = f'https://m.stock.naver.com/api/index/{code}/price?pageSize={page_size}&page={page}'\n",
    "    response = requests.get(url)\n",
    "    columns = [\"localTradedAt\", \"closePrice\"]\n",
    "    datas = response.json()\n",
    "    return pd.DataFrame(datas)[columns]"
   ]
  },
  {
   "cell_type": "code",
   "execution_count": 6,
   "id": "57c3cc0a",
   "metadata": {},
   "outputs": [
    {
     "name": "stdout",
     "output_type": "stream",
     "text": [
      "Help on function stock_price in module __main__:\n",
      "\n",
      "stock_price(code='KOSPI', page=1, page_size=20)\n",
      "    This function is crwaling stock price from naver stock web page\n",
      "    parameters :\n",
      "        code(str): KOSPI or KOSDAQ\n",
      "        page(int): page number\n",
      "        page_size(int): one page size\n",
      "    return :\n",
      "        type : DataFame of pandas\n",
      "\n"
     ]
    }
   ],
   "source": [
    "# docstring: 함수를 사용하는 방법을 문자열로 작성\n",
    "# 주피터 노트북의 경우 함수명 클릭 후 shift + tab을 눌러도 같은 기능\n",
    "help(stock_price)"
   ]
  },
  {
   "cell_type": "code",
   "execution_count": 22,
   "id": "64adc9ce",
   "metadata": {},
   "outputs": [
    {
     "data": {
      "text/html": [
       "<div>\n",
       "<style scoped>\n",
       "    .dataframe tbody tr th:only-of-type {\n",
       "        vertical-align: middle;\n",
       "    }\n",
       "\n",
       "    .dataframe tbody tr th {\n",
       "        vertical-align: top;\n",
       "    }\n",
       "\n",
       "    .dataframe thead th {\n",
       "        text-align: right;\n",
       "    }\n",
       "</style>\n",
       "<table border=\"1\" class=\"dataframe\">\n",
       "  <thead>\n",
       "    <tr style=\"text-align: right;\">\n",
       "      <th></th>\n",
       "      <th>localTradedAt</th>\n",
       "      <th>closePrice</th>\n",
       "    </tr>\n",
       "  </thead>\n",
       "  <tbody>\n",
       "    <tr>\n",
       "      <th>58</th>\n",
       "      <td>2022-05-11</td>\n",
       "      <td>2,592.27</td>\n",
       "    </tr>\n",
       "    <tr>\n",
       "      <th>59</th>\n",
       "      <td>2022-05-10</td>\n",
       "      <td>2,596.56</td>\n",
       "    </tr>\n",
       "  </tbody>\n",
       "</table>\n",
       "</div>"
      ],
      "text/plain": [
       "   localTradedAt closePrice\n",
       "58    2022-05-11   2,592.27\n",
       "59    2022-05-10   2,596.56"
      ]
     },
     "execution_count": 22,
     "metadata": {},
     "output_type": "execute_result"
    }
   ],
   "source": [
    "kospi_df = stock_price() # 최근 60일간의 KOSPI 지수 수집\n",
    "kospi_df.tail(2)"
   ]
  },
  {
   "cell_type": "code",
   "execution_count": 23,
   "id": "ddc82759",
   "metadata": {},
   "outputs": [
    {
     "data": {
      "text/html": [
       "<div>\n",
       "<style scoped>\n",
       "    .dataframe tbody tr th:only-of-type {\n",
       "        vertical-align: middle;\n",
       "    }\n",
       "\n",
       "    .dataframe tbody tr th {\n",
       "        vertical-align: top;\n",
       "    }\n",
       "\n",
       "    .dataframe thead th {\n",
       "        text-align: right;\n",
       "    }\n",
       "</style>\n",
       "<table border=\"1\" class=\"dataframe\">\n",
       "  <thead>\n",
       "    <tr style=\"text-align: right;\">\n",
       "      <th></th>\n",
       "      <th>localTradedAt</th>\n",
       "      <th>closePrice</th>\n",
       "    </tr>\n",
       "  </thead>\n",
       "  <tbody>\n",
       "    <tr>\n",
       "      <th>58</th>\n",
       "      <td>2022-05-11</td>\n",
       "      <td>866.34</td>\n",
       "    </tr>\n",
       "    <tr>\n",
       "      <th>59</th>\n",
       "      <td>2022-05-10</td>\n",
       "      <td>856.14</td>\n",
       "    </tr>\n",
       "  </tbody>\n",
       "</table>\n",
       "</div>"
      ],
      "text/plain": [
       "   localTradedAt closePrice\n",
       "58    2022-05-11     866.34\n",
       "59    2022-05-10     856.14"
      ]
     },
     "execution_count": 23,
     "metadata": {},
     "output_type": "execute_result"
    }
   ],
   "source": [
    "# KOSDAQ 데이터 수집 코드\n",
    "kosdaq_df = stock_price(\"KOSDAQ\")\n",
    "kosdaq_df.tail(2)"
   ]
  },
  {
   "cell_type": "markdown",
   "id": "30b5340b",
   "metadata": {},
   "source": [
    "#### 5. 원달러 환율 데이터 수집 : 실습\n",
    "- https://m.stock.naver.com/ > 시작지표 > 미국 USD > 일별시세(더보기)"
   ]
  },
  {
   "cell_type": "code",
   "execution_count": 16,
   "id": "1f366564",
   "metadata": {},
   "outputs": [],
   "source": [
    "def exchage_rate(code=\"USD\", page=1, page_size=60):\n",
    "    url = f'https://api.stock.naver.com/marketindex/exchange/FX_{code}KRW/prices?page={page}\\\n",
    "&pageSize={page_size}'\n",
    "    response = requests.get(url)\n",
    "    columns = [\"localTradedAt\", \"closePrice\"] # localTradeAt: 날짜, closePrice: 종가\n",
    "    datas = response.json()\n",
    "    return pd.DataFrame(datas)[columns]"
   ]
  },
  {
   "cell_type": "code",
   "execution_count": 17,
   "id": "83a59350",
   "metadata": {},
   "outputs": [
    {
     "data": {
      "text/html": [
       "<div>\n",
       "<style scoped>\n",
       "    .dataframe tbody tr th:only-of-type {\n",
       "        vertical-align: middle;\n",
       "    }\n",
       "\n",
       "    .dataframe tbody tr th {\n",
       "        vertical-align: top;\n",
       "    }\n",
       "\n",
       "    .dataframe thead th {\n",
       "        text-align: right;\n",
       "    }\n",
       "</style>\n",
       "<table border=\"1\" class=\"dataframe\">\n",
       "  <thead>\n",
       "    <tr style=\"text-align: right;\">\n",
       "      <th></th>\n",
       "      <th>localTradedAt</th>\n",
       "      <th>closePrice</th>\n",
       "    </tr>\n",
       "  </thead>\n",
       "  <tbody>\n",
       "    <tr>\n",
       "      <th>58</th>\n",
       "      <td>2022-05-11</td>\n",
       "      <td>1,274.50</td>\n",
       "    </tr>\n",
       "    <tr>\n",
       "      <th>59</th>\n",
       "      <td>2022-05-10</td>\n",
       "      <td>1,276.00</td>\n",
       "    </tr>\n",
       "  </tbody>\n",
       "</table>\n",
       "</div>"
      ],
      "text/plain": [
       "   localTradedAt closePrice\n",
       "58    2022-05-11   1,274.50\n",
       "59    2022-05-10   1,276.00"
      ]
     },
     "execution_count": 17,
     "metadata": {},
     "output_type": "execute_result"
    }
   ],
   "source": [
    "# 최근 60일치 원달러 환율 데이터 수집\n",
    "usd_df = exchage_rate()\n",
    "usd_df.tail(2)"
   ]
  },
  {
   "cell_type": "code",
   "execution_count": 10,
   "id": "9a643292",
   "metadata": {},
   "outputs": [
    {
     "data": {
      "text/html": [
       "<div>\n",
       "<style scoped>\n",
       "    .dataframe tbody tr th:only-of-type {\n",
       "        vertical-align: middle;\n",
       "    }\n",
       "\n",
       "    .dataframe tbody tr th {\n",
       "        vertical-align: top;\n",
       "    }\n",
       "\n",
       "    .dataframe thead th {\n",
       "        text-align: right;\n",
       "    }\n",
       "</style>\n",
       "<table border=\"1\" class=\"dataframe\">\n",
       "  <thead>\n",
       "    <tr style=\"text-align: right;\">\n",
       "      <th></th>\n",
       "      <th>localTradedAt</th>\n",
       "      <th>closePrice</th>\n",
       "    </tr>\n",
       "  </thead>\n",
       "  <tbody>\n",
       "    <tr>\n",
       "      <th>58</th>\n",
       "      <td>2022-05-11</td>\n",
       "      <td>1,343.77</td>\n",
       "    </tr>\n",
       "    <tr>\n",
       "      <th>59</th>\n",
       "      <td>2022-05-10</td>\n",
       "      <td>1,346.56</td>\n",
       "    </tr>\n",
       "  </tbody>\n",
       "</table>\n",
       "</div>"
      ],
      "text/plain": [
       "   localTradedAt closePrice\n",
       "58    2022-05-11   1,343.77\n",
       "59    2022-05-10   1,346.56"
      ]
     },
     "execution_count": 10,
     "metadata": {},
     "output_type": "execute_result"
    }
   ],
   "source": [
    "eur_df = exchage_rate(\"EUR\")\n",
    "eur_df.tail(2)"
   ]
  },
  {
   "cell_type": "markdown",
   "id": "3d862521",
   "metadata": {},
   "source": [
    "#### 6. 상관관계 분석\n",
    "- 피어슨 상관계수(Pearson Correlation Coefficient): df.corr()\n",
    "- 두 데이터 집합의 상관도를 분석할때 사용되는 지표\n",
    "- 상관계수의 해석\n",
    "    - -1에 가까울수록 서로 반대방향으로 움직임\n",
    "    - 1에 가까울수록 서로 같은방향으로 움직임\n",
    "    - 0에 가까울수록 두 데이터는 관계가 없음\n",
    "- 이외에 spearman, kendal과 같은 비선형관계도 분석 가능"
   ]
  },
  {
   "cell_type": "code",
   "execution_count": 24,
   "id": "6b2b61ba",
   "metadata": {},
   "outputs": [
    {
     "data": {
      "text/html": [
       "<div>\n",
       "<style scoped>\n",
       "    .dataframe tbody tr th:only-of-type {\n",
       "        vertical-align: middle;\n",
       "    }\n",
       "\n",
       "    .dataframe tbody tr th {\n",
       "        vertical-align: top;\n",
       "    }\n",
       "\n",
       "    .dataframe thead th {\n",
       "        text-align: right;\n",
       "    }\n",
       "</style>\n",
       "<table border=\"1\" class=\"dataframe\">\n",
       "  <thead>\n",
       "    <tr style=\"text-align: right;\">\n",
       "      <th></th>\n",
       "      <th>kospi</th>\n",
       "      <th>kosdaq</th>\n",
       "      <th>usd</th>\n",
       "      <th>eur</th>\n",
       "    </tr>\n",
       "  </thead>\n",
       "  <tbody>\n",
       "    <tr>\n",
       "      <th>kospi</th>\n",
       "      <td>1.000000</td>\n",
       "      <td>0.991273</td>\n",
       "      <td>-0.885754</td>\n",
       "      <td>-0.500534</td>\n",
       "    </tr>\n",
       "    <tr>\n",
       "      <th>kosdaq</th>\n",
       "      <td>0.991273</td>\n",
       "      <td>1.000000</td>\n",
       "      <td>-0.896188</td>\n",
       "      <td>-0.541728</td>\n",
       "    </tr>\n",
       "    <tr>\n",
       "      <th>usd</th>\n",
       "      <td>-0.885754</td>\n",
       "      <td>-0.896188</td>\n",
       "      <td>1.000000</td>\n",
       "      <td>0.452319</td>\n",
       "    </tr>\n",
       "    <tr>\n",
       "      <th>eur</th>\n",
       "      <td>-0.500534</td>\n",
       "      <td>-0.541728</td>\n",
       "      <td>0.452319</td>\n",
       "      <td>1.000000</td>\n",
       "    </tr>\n",
       "  </tbody>\n",
       "</table>\n",
       "</div>"
      ],
      "text/plain": [
       "           kospi    kosdaq       usd       eur\n",
       "kospi   1.000000  0.991273 -0.885754 -0.500534\n",
       "kosdaq  0.991273  1.000000 -0.896188 -0.541728\n",
       "usd    -0.885754 -0.896188  1.000000  0.452319\n",
       "eur    -0.500534 -0.541728  0.452319  1.000000"
      ]
     },
     "execution_count": 24,
     "metadata": {},
     "output_type": "execute_result"
    }
   ],
   "source": [
    "# 해석 1 : kospi, kosdaq은 아주 강한 양의 상관관계를 갖는다. (데이터가 같은 방향으로 움직임)\n",
    "# 해석 2 : kospi와 usd를 강한 음의 상관관계를 갖는다. (데이터가 반대 방향으로 움직임)\n",
    "\n",
    "# 데이터 전처리\n",
    "df = kospi_df.copy()\n",
    "df[\"kosdaq\"] = kosdaq_df[\"closePrice\"]\n",
    "df[\"usd\"] = usd_df[\"closePrice\"]\n",
    "df.rename(columns={'closePrice': 'kospi'}, inplace=True)"
   ]
  },
  {
   "cell_type": "code",
   "execution_count": 30,
   "id": "512327a4",
   "metadata": {},
   "outputs": [
    {
     "data": {
      "text/plain": [
       "localTradedAt     object\n",
       "kospi            float64\n",
       "kosdaq           float64\n",
       "usd              float64\n",
       "dtype: object"
      ]
     },
     "execution_count": 30,
     "metadata": {},
     "output_type": "execute_result"
    }
   ],
   "source": [
    "# column의 데이터 타입 변경: str > float\n",
    "# 원본 데이터에 콤마 없을 경우 pd.to_numeric() 사용하여 타입 변경 가능\n",
    "\n",
    "df['kospi'] = df['kospi'].apply(lambda data: float(data.replace(\",\", \"\")))\n",
    "df['kosdaq'] = df['kosdaq'].apply(lambda data: float(data.replace(\",\", \"\")))\n",
    "df['usd'] = df['usd'].apply(lambda data: float(data.replace(\",\", \"\")))\n",
    "df.dtypes"
   ]
  },
  {
   "cell_type": "code",
   "execution_count": 31,
   "id": "1127cf98",
   "metadata": {},
   "outputs": [
    {
     "data": {
      "text/html": [
       "<div>\n",
       "<style scoped>\n",
       "    .dataframe tbody tr th:only-of-type {\n",
       "        vertical-align: middle;\n",
       "    }\n",
       "\n",
       "    .dataframe tbody tr th {\n",
       "        vertical-align: top;\n",
       "    }\n",
       "\n",
       "    .dataframe thead th {\n",
       "        text-align: right;\n",
       "    }\n",
       "</style>\n",
       "<table border=\"1\" class=\"dataframe\">\n",
       "  <thead>\n",
       "    <tr style=\"text-align: right;\">\n",
       "      <th></th>\n",
       "      <th>kospi</th>\n",
       "      <th>kosdaq</th>\n",
       "      <th>usd</th>\n",
       "    </tr>\n",
       "  </thead>\n",
       "  <tbody>\n",
       "    <tr>\n",
       "      <th>kospi</th>\n",
       "      <td>1.000000</td>\n",
       "      <td>0.984075</td>\n",
       "      <td>-0.878489</td>\n",
       "    </tr>\n",
       "    <tr>\n",
       "      <th>kosdaq</th>\n",
       "      <td>0.984075</td>\n",
       "      <td>1.000000</td>\n",
       "      <td>-0.821657</td>\n",
       "    </tr>\n",
       "    <tr>\n",
       "      <th>usd</th>\n",
       "      <td>-0.878489</td>\n",
       "      <td>-0.821657</td>\n",
       "      <td>1.000000</td>\n",
       "    </tr>\n",
       "  </tbody>\n",
       "</table>\n",
       "</div>"
      ],
      "text/plain": [
       "           kospi    kosdaq       usd\n",
       "kospi   1.000000  0.984075 -0.878489\n",
       "kosdaq  0.984075  1.000000 -0.821657\n",
       "usd    -0.878489 -0.821657  1.000000"
      ]
     },
     "execution_count": 31,
     "metadata": {},
     "output_type": "execute_result"
    }
   ],
   "source": [
    "# kospi - kosdaq(0.984): 1에 가까우므로 강한 양의 상관관계\n",
    "# kospi - usd(-0.878): -1에 가까우므로 강한 음의 상관관계\n",
    "df[['kospi', 'kosdaq', 'usd']].corr()"
   ]
  }
 ],
 "metadata": {
  "kernelspec": {
   "display_name": "Python 3.9.13 64-bit",
   "language": "python",
   "name": "python3"
  },
  "language_info": {
   "codemirror_mode": {
    "name": "ipython",
    "version": 3
   },
   "file_extension": ".py",
   "mimetype": "text/x-python",
   "name": "python",
   "nbconvert_exporter": "python",
   "pygments_lexer": "ipython3",
   "version": "3.9.13"
  },
  "toc": {
   "base_numbering": 1,
   "nav_menu": {},
   "number_sections": false,
   "sideBar": true,
   "skip_h1_title": false,
   "title_cell": "Table of Contents",
   "title_sidebar": "Contents",
   "toc_cell": false,
   "toc_position": {},
   "toc_section_display": true,
   "toc_window_display": false
  },
  "vscode": {
   "interpreter": {
    "hash": "cf92aa13fedf815d5c8dd192b8d835913fde3e8bc926b2a0ad6cc74ef2ba3ca2"
   }
  }
 },
 "nbformat": 4,
 "nbformat_minor": 5
}
