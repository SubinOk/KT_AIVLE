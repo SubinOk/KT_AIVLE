{
 "cells": [
  {
   "cell_type": "markdown",
   "metadata": {
    "slideshow": {
     "slide_type": "slide"
    }
   },
   "source": [
    "# HTML"
   ]
  },
  {
   "cell_type": "markdown",
   "metadata": {
    "slideshow": {
     "slide_type": "slide"
    }
   },
   "source": [
    "## 1. HTML 이란?\n",
    "\n",
    "- HTML은 Hyper Text Markup Language의 약자로 웹 문서를 작성하는 마크업 언어 입니다."
   ]
  },
  {
   "cell_type": "markdown",
   "metadata": {
    "slideshow": {
     "slide_type": "slide"
    }
   },
   "source": [
    "## 2. HTML 구성 요소\n",
    "- Document : 한 페이지를 나타내는 단위\n",
    "- Element : 하나의 레이아웃을 나타내는 단위 : Element가 모여서 Document를 만듦\n",
    "    - 시작태그, 끝태그, 텍스트로 구성\n",
    "    - Element는 계층적 구조를 가짐\n",
    "- Tag : element의 종류를 정의 : 시작태그(속성값) + 끝태그 = Element\n",
    "- Attribute : 시작태그에서 태그의 기능을 정의\n",
    "    - id : element를 지정하는 페이지에서 유일한 값\n",
    "    - class : element를 지정하는 값으로, 페이지의 내에서 그룹핑 할때 사용 (동일한 여러개의 값 사용 가능)\n",
    "    - attr : id와 class를 제외한 나머지 속성값\n",
    "- Text : 시작태그와 끝태그 사이에 있는 문자열"
   ]
  },
  {
   "cell_type": "code",
   "execution_count": 5,
   "metadata": {},
   "outputs": [
    {
     "data": {
      "text/html": [
       "<!-- 사용 예 -->\n",
       "<div class=\"wrapper\">\n",
       "    <button id=\"b1\" class=\"btn no1\" type=\"button\" value=\"1\">HTML 1</button>\n",
       "    <button id=\"b2\" class=\"btn no2\" type=\"button\" value=\"2\">HTML 2</button>\n",
       "    <p>HTML 3</p>\n",
       "</div>\n"
      ],
      "text/plain": [
       "<IPython.core.display.HTML object>"
      ]
     },
     "metadata": {},
     "output_type": "display_data"
    }
   ],
   "source": [
    "%%html\n",
    "<!-- 사용 예 -->\n",
    "<div class=\"wrapper\">\n",
    "    <button id=\"b1\" class=\"btn no1\" type=\"button\" value=\"1\">HTML 1</button>\n",
    "    <button id=\"b2\" class=\"btn no2\" type=\"button\" value=\"2\">HTML 2</button>\n",
    "    <p>HTML 3</p>\n",
    "</div>"
   ]
  },
  {
   "cell_type": "markdown",
   "metadata": {
    "slideshow": {
     "slide_type": "slide"
    }
   },
   "source": [
    "## 3. HTML 구조\n",
    "\n",
    "- DOCTYPE\n",
    "  - 문서의 종류를 선언하는 태그 입니다.\n",
    "- html\n",
    "  - head\n",
    "    - meta\n",
    "      - 웹페이지에 대한 정보를 넣습니다.\n",
    "    - title\n",
    "      - 웹페이지의 제목 정보를 넣습니다.\n",
    "  - body\n",
    "    - 화면을 구성하는 엘리먼트가 옵니다."
   ]
  },
  {
   "cell_type": "markdown",
   "metadata": {},
   "source": [
    "```\n",
    "<!-- HTML 웹문서의 기본적인 구조 -->\n",
    "<!DOCTYPE html>\n",
    "<html lang=\"en\">\n",
    "<head>\n",
    "    <meta charset=\"utf-8\">\n",
    "    <title></title>\n",
    "</head>\n",
    "<body>\n",
    "\n",
    "</body>\n",
    "</html>\n",
    "```"
   ]
  },
  {
   "cell_type": "markdown",
   "metadata": {
    "slideshow": {
     "slide_type": "slide"
    }
   },
   "source": [
    "### 4. HTML  태그\n",
    "\n",
    "- html에서 문자를 나타내는 태그들"
   ]
  },
  {
   "cell_type": "markdown",
   "metadata": {
    "slideshow": {
     "slide_type": "slide"
    }
   },
   "source": [
    "### 4.1 head\n",
    "\n",
    "- title을 나타낼때 사용\n",
    "- Head는 총 6가지 종류의 태그가 있습니다.(h1~h6)\n",
    "- 숫자가 커질수록 문자의 크기가 줄어듭니다."
   ]
  },
  {
   "cell_type": "markdown",
   "metadata": {},
   "source": [
    "```\n",
    "<h1>Heading</h1>\n",
    "<h2>Heading</h2>\n",
    "<h3>Heading</h3>\n",
    "<h4>Heading</h4>\n",
    "<h5>Heading</h5>\n",
    "<h6>Heading</h6>\n",
    "```"
   ]
  },
  {
   "cell_type": "markdown",
   "metadata": {},
   "source": [
    "<h1>Heading</h1>\n",
    "<h2>Heading</h2>\n",
    "<h3>Heading</h3>\n",
    "<h4>Heading</h4>\n",
    "<h5>Heading</h5>\n",
    "<h6>Heading</h6>"
   ]
  },
  {
   "cell_type": "markdown",
   "metadata": {
    "slideshow": {
     "slide_type": "slide"
    }
   },
   "source": [
    "### 4.2 p\n",
    "\n",
    "- 한 줄의 문자열을 출력하기 위한 태그"
   ]
  },
  {
   "cell_type": "markdown",
   "metadata": {},
   "source": [
    "```\n",
    "<p>HTML은 마크업 언어 입니다.</p>\n",
    "<p>p 태그는 한줄로 문자열을 출력합니다.</p>\n",
    "```"
   ]
  },
  {
   "cell_type": "markdown",
   "metadata": {},
   "source": [
    "<p>HTML은 마크업 언어 입니다.</p>\n",
    "<p>p 태그는 한줄로 문자열을 출력합니다.</p>"
   ]
  },
  {
   "cell_type": "markdown",
   "metadata": {
    "slideshow": {
     "slide_type": "slide"
    }
   },
   "source": [
    "### 4.3 span\n",
    "\n",
    "- 한 블럭의 문자열을 표현하기 위한 태그"
   ]
  },
  {
   "cell_type": "markdown",
   "metadata": {},
   "source": [
    "```\n",
    "<span class=\"s1\">span-tag-0</span>\n",
    "<span class=\"s2\">span-tag-1</span>\n",
    "<span class=\"s3\">span-tag-2</span>\n",
    "```"
   ]
  },
  {
   "cell_type": "markdown",
   "metadata": {},
   "source": [
    "<span class=\"s1\">span-tag-0</span>\n",
    "<span class=\"s2\">span-tag-1</span>\n",
    "<span class=\"s3\">span-tag-2</span>"
   ]
  },
  {
   "cell_type": "markdown",
   "metadata": {
    "slideshow": {
     "slide_type": "slide"
    }
   },
   "source": [
    "### 4.4 pre\n",
    "\n",
    "- 줄바꿈이나 띄어쓰기가 적용되는 태그"
   ]
  },
  {
   "cell_type": "markdown",
   "metadata": {},
   "source": [
    "```\n",
    "<p>\n",
    "    python\n",
    "    datascience\n",
    "</p>\n",
    "<pre>\n",
    "    python\n",
    "    datascience\n",
    "</pre>\n",
    "```"
   ]
  },
  {
   "cell_type": "markdown",
   "metadata": {},
   "source": [
    "<p>\n",
    "    python\n",
    "    datascience\n",
    "</p>\n",
    "<pre>\n",
    "    python\n",
    "    datascience\n",
    "</pre>"
   ]
  },
  {
   "cell_type": "markdown",
   "metadata": {
    "slideshow": {
     "slide_type": "slide"
    }
   },
   "source": [
    "### 4.5 code\n",
    "\n",
    "- 코드를 작성하는 태그\n",
    "- 들여쓰기나 두칸 이상의 공백은 적용이 안됩니다."
   ]
  },
  {
   "cell_type": "markdown",
   "metadata": {},
   "source": [
    "```\n",
    "<code>\n",
    "    var a = 10;\n",
    "    var b = 20;\n",
    "    print(\"{} + {} = {}\".format(a, b, a + b));\n",
    "</code>\n",
    "```"
   ]
  },
  {
   "cell_type": "markdown",
   "metadata": {},
   "source": [
    "<code>\n",
    "    var a = 10;\n",
    "    var b = 20;\n",
    "    print(\"{} + {} = {}\".format(a, b, a + b));\n",
    "</code>"
   ]
  },
  {
   "cell_type": "markdown",
   "metadata": {
    "slideshow": {
     "slide_type": "slide"
    }
   },
   "source": [
    "## 5. 문자 이외의 HTML 태그"
   ]
  },
  {
   "cell_type": "markdown",
   "metadata": {
    "slideshow": {
     "slide_type": "slide"
    }
   },
   "source": [
    "### 5.1 div\n",
    "\n",
    "- 레이아웃을 나타내는 태그"
   ]
  },
  {
   "cell_type": "markdown",
   "metadata": {},
   "source": [
    "```\n",
    "<div>\n",
    "    <p>div1</p>\n",
    "    <p>div1</p>\n",
    "    <p>div1</p>\n",
    "</div>\n",
    "<div>div2</div>\n",
    "<div>div3</div>\n",
    "```"
   ]
  },
  {
   "cell_type": "markdown",
   "metadata": {},
   "source": [
    "<div>\n",
    "    <p>div1</p>\n",
    "    <p>div1</p>\n",
    "    <p>div1</p>\n",
    "</div>\n",
    "<div>div2</div>\n",
    "<div>div3</div>"
   ]
  },
  {
   "cell_type": "markdown",
   "metadata": {
    "slideshow": {
     "slide_type": "slide"
    }
   },
   "source": [
    "### 5.2 table\n",
    "\n",
    "- 로우와 컬럼이 있는 테이블 모양을 나타낼때 사용하는 태그"
   ]
  },
  {
   "cell_type": "markdown",
   "metadata": {},
   "source": [
    "```\n",
    "<table>\n",
    "    <caption>테이블</caption>\n",
    "    <thead>\n",
    "        <tr>\n",
    "            <th>html_1</th>\n",
    "            <th>html_2</th>\n",
    "        </tr>\n",
    "    </thead>\n",
    "    <tbody>\n",
    "        <tr>\n",
    "            <td>html_3</td>\n",
    "            <td>html_4</td>\n",
    "        </tr>\n",
    "    </tbody>\n",
    "</table>\n",
    "```"
   ]
  },
  {
   "cell_type": "markdown",
   "metadata": {},
   "source": [
    "<table>\n",
    "    <caption>테이블</caption>\n",
    "    <thead>\n",
    "        <tr>\n",
    "            <th>html_1</th>\n",
    "            <th>html_2</th>\n",
    "        </tr>\n",
    "    </thead>\n",
    "    <tbody>\n",
    "        <tr>\n",
    "            <td>html_3</td>\n",
    "            <td>html_4</td>\n",
    "        </tr>\n",
    "    </tbody>\n",
    "</table>"
   ]
  },
  {
   "cell_type": "markdown",
   "metadata": {
    "slideshow": {
     "slide_type": "slide"
    }
   },
   "source": [
    "### 5.3 ul, li\n",
    "\n",
    "- 리스트 문자열을 출력하는 태그\n",
    "- 메뉴, 목록에 주로 사용"
   ]
  },
  {
   "cell_type": "markdown",
   "metadata": {},
   "source": [
    "```\n",
    "<ul>\n",
    "    <li>ul_li_1</li>\n",
    "    <li>ul_li_2</li>\n",
    "    <li>ul_li_3</li>\n",
    "</ul>\n",
    "```"
   ]
  },
  {
   "cell_type": "markdown",
   "metadata": {},
   "source": [
    "<ul>\n",
    "    <li>ul_li_1</li>\n",
    "    <li>ul_li_2</li>\n",
    "    <li>ul_li_3</li>\n",
    "</ul>"
   ]
  },
  {
   "cell_type": "markdown",
   "metadata": {
    "slideshow": {
     "slide_type": "slide"
    }
   },
   "source": [
    "### 5.4 a\n",
    "\n",
    "- 링크를 나타내는 태그\n",
    "- href 속성에 url을 넣습니다.\n",
    "  - url과 상대경로를 모두 사용 가능\n",
    "  - `target=\"_blank\"`는 링크를 열때 새탭에서 열도록 하는 기능이 있습니다."
   ]
  },
  {
   "cell_type": "markdown",
   "metadata": {},
   "source": [
    "```\n",
    "<a href=\"http://google.com\" target=\"_blank\">Google</a>\n",
    "<a href=\"01_html_1.md\">html basic</a>\n",
    "```"
   ]
  },
  {
   "cell_type": "markdown",
   "metadata": {},
   "source": [
    "<a href=\"http://google.com\" target=\"_blank\">Google</a>\n",
    "<a href=\"01_html_1.md\">html basic</a>"
   ]
  },
  {
   "cell_type": "markdown",
   "metadata": {
    "slideshow": {
     "slide_type": "slide"
    }
   },
   "source": [
    "### 5.5 image\n",
    "\n",
    "- 이미지를 나타내는 태그"
   ]
  },
  {
   "cell_type": "markdown",
   "metadata": {},
   "source": [
    "```\n",
    "<img src=\"https://cfm.kt.com/images/v2/layout/gnb-ktlogo.png\" alt=\"kt logo\">\n",
    "```"
   ]
  },
  {
   "cell_type": "markdown",
   "metadata": {},
   "source": [
    "<img src=\"https://cfm.kt.com/images/v2/layout/gnb-ktlogo.png\" alt=\"kt logo\">"
   ]
  },
  {
   "cell_type": "markdown",
   "metadata": {
    "slideshow": {
     "slide_type": "slide"
    }
   },
   "source": [
    "### 5.4 iframe\n",
    "\n",
    "- 외부 url 링크 페이지에 해당하는 웹페이지를 출력\n",
    "- 모든 웹 페이지를 보여줄수있는건 아니고 iframe으로만 출력이 되던가 안되거나 하는등의 설정을 할수 있습니다."
   ]
  },
  {
   "cell_type": "markdown",
   "metadata": {},
   "source": [
    "```\n",
    "<iframe src=\"https://www.naver.com/\" width=\"100%\" height=\"400px;\"></iframe>\n",
    "```"
   ]
  },
  {
   "cell_type": "markdown",
   "metadata": {},
   "source": [
    "<iframe src=\"https://www.naver.com/\" width=\"60%\" height=\"400px;\"></iframe>"
   ]
  }
 ],
 "metadata": {
  "kernelspec": {
   "display_name": "Python 3.9.13 64-bit",
   "language": "python",
   "name": "python3"
  },
  "language_info": {
   "codemirror_mode": {
    "name": "ipython",
    "version": 3
   },
   "file_extension": ".py",
   "mimetype": "text/x-python",
   "name": "python",
   "nbconvert_exporter": "python",
   "pygments_lexer": "ipython3",
   "version": "3.9.13"
  },
  "toc": {
   "base_numbering": 1,
   "nav_menu": {},
   "number_sections": false,
   "sideBar": true,
   "skip_h1_title": false,
   "title_cell": "Table of Contents",
   "title_sidebar": "Contents",
   "toc_cell": false,
   "toc_position": {},
   "toc_section_display": true,
   "toc_window_display": false
  },
  "varInspector": {
   "cols": {
    "lenName": 16,
    "lenType": 16,
    "lenVar": 40
   },
   "kernels_config": {
    "python": {
     "delete_cmd_postfix": "",
     "delete_cmd_prefix": "del ",
     "library": "var_list.py",
     "varRefreshCmd": "print(var_dic_list())"
    },
    "r": {
     "delete_cmd_postfix": ") ",
     "delete_cmd_prefix": "rm(",
     "library": "var_list.r",
     "varRefreshCmd": "cat(var_dic_list()) "
    }
   },
   "types_to_exclude": [
    "module",
    "function",
    "builtin_function_or_method",
    "instance",
    "_Feature"
   ],
   "window_display": false
  },
  "vscode": {
   "interpreter": {
    "hash": "cf92aa13fedf815d5c8dd192b8d835913fde3e8bc926b2a0ad6cc74ef2ba3ca2"
   }
  }
 },
 "nbformat": 4,
 "nbformat_minor": 2
}
