{
 "cells": [
  {
   "cell_type": "markdown",
   "id": "03fff3b4",
   "metadata": {},
   "source": [
    "### selenium\n",
    "- `https://www.selenium.dev`\n",
    "- 브라우저의 자동화를 목적으로 만들어진 다양한 브라우저와 언어를 지원하는 라이브러리\n",
    "- 브라우저를 파이썬 코드로 컨트롤해서 브라우저에 있는 데이터를 수집\n",
    "\n",
    "- 환경설정\n",
    "    - 크롬 브라우저 설치\n",
    "    - 크롬 브라우저 드라이버 다운로드 (크롬 브라우저와 같은 버전) -> 크롬 브라우저와 파이썬 코드 연결\n",
    "        - 다운로드한 드라이버 압축 해제\n",
    "        - chromedriver, chromedriver.exe 생성\n",
    "        - windows : 주피터 노트북 파일과 동일한 디렉토리에 chromedriver.exe 파일 업로드\n",
    "        - mac : sudo cp ~/Download/chromedirver /usr/local/bin\n",
    "    - selenum 패키지 설치\n",
    "    - optional) 크롬 브라우저의 드라이버 파일을 환경변수로 등록하면 쉽게 사용 가능"
   ]
  },
  {
   "cell_type": "code",
   "execution_count": 1,
   "id": "739d489e",
   "metadata": {},
   "outputs": [],
   "source": [
    "# install selenium\n",
    "# !pip install selenium"
   ]
  },
  {
   "cell_type": "code",
   "execution_count": 1,
   "id": "2981cd32",
   "metadata": {},
   "outputs": [],
   "source": [
    "import pandas as pd\n",
    "from selenium import webdriver\n",
    "from selenium.webdriver.common.by import By"
   ]
  },
  {
   "cell_type": "code",
   "execution_count": 2,
   "id": "13b07de6",
   "metadata": {},
   "outputs": [],
   "source": [
    "# 1. 브라우저 띄우기\n",
    "driver = webdriver.Chrome()"
   ]
  },
  {
   "cell_type": "code",
   "execution_count": 3,
   "id": "a786b65d",
   "metadata": {},
   "outputs": [],
   "source": [
    "# 2. 페이지 이동\n",
    "driver.get(\"https://daum.net\")"
   ]
  },
  {
   "cell_type": "code",
   "execution_count": 4,
   "id": "9abf03ba",
   "metadata": {},
   "outputs": [],
   "source": [
    "# 3. 브라우저 사이즈 조절\n",
    "driver.set_window_size(200, 600)"
   ]
  },
  {
   "cell_type": "code",
   "execution_count": 5,
   "id": "5ae62f43",
   "metadata": {},
   "outputs": [],
   "source": [
    "# 4. 브라우져 스크롤 조절(Javascript 코드 실행)\n",
    "driver.execute_script(\"window.scrollTo(200, 300);\")"
   ]
  },
  {
   "cell_type": "code",
   "execution_count": 6,
   "id": "c5c67542",
   "metadata": {},
   "outputs": [],
   "source": [
    "# 5. alert 다루기\n",
    "driver.execute_script(\"alert('hello selenium!');\")"
   ]
  },
  {
   "cell_type": "code",
   "execution_count": 7,
   "id": "ba153669",
   "metadata": {},
   "outputs": [],
   "source": [
    "alert = driver.switch_to.alert # alert 객체 정의\n",
    "alert.accept()"
   ]
  },
  {
   "cell_type": "code",
   "execution_count": 15,
   "id": "53e4eb78",
   "metadata": {},
   "outputs": [],
   "source": [
    "driver.execute_script(\"window.scrollTo(0, 000);\")"
   ]
  },
  {
   "cell_type": "code",
   "execution_count": 9,
   "id": "64264b83",
   "metadata": {},
   "outputs": [
    {
     "name": "stdout",
     "output_type": "stream",
     "text": [
      "selenium                      4.3.0\r\n"
     ]
    }
   ],
   "source": [
    "!pip list | grep selenium"
   ]
  },
  {
   "cell_type": "code",
   "execution_count": 9,
   "id": "15b83780",
   "metadata": {},
   "outputs": [],
   "source": [
    "# 6. input 창에 문자열 입력\n",
    "driver.find_element(By.CSS_SELECTOR, \"#q\").send_keys(\"파이썬\") # input 창의 id = 'q'"
   ]
  },
  {
   "cell_type": "code",
   "execution_count": 10,
   "id": "29abf4ff",
   "metadata": {},
   "outputs": [],
   "source": [
    "# 7. 검색 버튼 클릭\n",
    "driver.find_element(By.CSS_SELECTOR, '.inner_search > .ico_pctop.btn_search').click() \n",
    "# 콤마로 구분 시 or 조건이 적용되고 붙여서 입력 시 and 조건 적용"
   ]
  },
  {
   "cell_type": "code",
   "execution_count": 16,
   "id": "dfa3c68a",
   "metadata": {},
   "outputs": [],
   "source": [
    "# 8. 브라우져 종료\n",
    "driver.quit()"
   ]
  },
  {
   "cell_type": "markdown",
   "id": "c975eba2",
   "metadata": {},
   "source": [
    "-> 위의 코드를 한 셀에 통합하여 브라우저를 자동화할 수 있음"
   ]
  },
  {
   "cell_type": "markdown",
   "id": "c4c13a78",
   "metadata": {},
   "source": [
    "### 텍스트 데이터 가져오기\n",
    "- TED 사이트 : `https://www.ted.com`"
   ]
  },
  {
   "cell_type": "code",
   "execution_count": 17,
   "id": "0eeaf4c8",
   "metadata": {},
   "outputs": [],
   "source": [
    "# 1. 브라우저 열기 테드 사이트 열기\n",
    "driver = webdriver.Chrome()"
   ]
  },
  {
   "cell_type": "code",
   "execution_count": 18,
   "id": "4f3c875a",
   "metadata": {},
   "outputs": [],
   "source": [
    "# 2. 페이지 이동\n",
    "driver.get(\"https://www.ted.com/talks\")"
   ]
  },
  {
   "cell_type": "code",
   "execution_count": 19,
   "id": "eaed94c4",
   "metadata": {},
   "outputs": [
    {
     "name": "stdout",
     "output_type": "stream",
     "text": [
      "Join TED Recommends to get the best ideas, selected just for you\n"
     ]
    }
   ],
   "source": [
    "# 3. 제목 데이터 텍스트 가져오기\n",
    "# CSS Selector를 이용하여 HTML 태그와 태그 사이의 text 데이터 가져오기\n",
    "sub_title = driver.find_element(By.CSS_SELECTOR, \"#banner-secondary\").text\n",
    "print(sub_title)"
   ]
  },
  {
   "cell_type": "code",
   "execution_count": 20,
   "id": "3596edb0",
   "metadata": {},
   "outputs": [],
   "source": [
    "# 4. select box에서 한국어 메뉴 클릭 데이터 가져오기\n",
    "# 이벤트 발생 기능(값 입력, 클릭 이벤트등)은 화면에 해당 엘리먼트가 보여야 함\n",
    "driver.find_element(By.CSS_SELECTOR, '#languages [lang=\"ko\"]').click() \n",
    "# 부등호(계층적 선택) 사용하려면 #languages > optgroup > [lang=\"ko\"]"
   ]
  },
  {
   "cell_type": "code",
   "execution_count": 22,
   "id": "dace0f37",
   "metadata": {},
   "outputs": [
    {
     "data": {
      "text/plain": [
       "36"
      ]
     },
     "execution_count": 22,
     "metadata": {},
     "output_type": "execute_result"
    }
   ],
   "source": [
    "# 5. 전체 데이터의 제목과 링크 데이터 가져오기\n",
    "contents = driver.find_elements(By.CSS_SELECTOR, \"#browse-results > .row > .col\") # 여러개를 찾을 때는 find_elements\n",
    "len(contents)"
   ]
  },
  {
   "cell_type": "code",
   "execution_count": 28,
   "id": "b201c26c",
   "metadata": {},
   "outputs": [
    {
     "data": {
      "text/plain": [
       "'스페인어의 역사 - 일란 스타반스(Ilan Stavans)'"
      ]
     },
     "execution_count": 28,
     "metadata": {},
     "output_type": "execute_result"
    }
   ],
   "source": [
    "title = contents[0].find_element(By.CSS_SELECTOR, '.media__message .ga-link').text # 하나만 찾을 때는 find_element\n",
    "title"
   ]
  },
  {
   "cell_type": "code",
   "execution_count": 30,
   "id": "afe2926e",
   "metadata": {},
   "outputs": [
    {
     "data": {
      "text/plain": [
       "'https://www.ted.com/talks/ilan_stavans_a_brief_history_of_spanish?language=ko'"
      ]
     },
     "execution_count": 30,
     "metadata": {},
     "output_type": "execute_result"
    }
   ],
   "source": [
    "# 링크 데이터 크롤링 (속성(attribute)값 가져오는 방법) : get_attribute()\n",
    "link = contents[0].find_element(By.CSS_SELECTOR, '.media__message .ga-link').get_attribute('href')\n",
    "link"
   ]
  },
  {
   "cell_type": "code",
   "execution_count": 31,
   "id": "79b4aeeb",
   "metadata": {},
   "outputs": [],
   "source": [
    "# 6. 데이터 프레임으로 만들기\n",
    "data = []\n",
    "for content in contents:\n",
    "    data.append({\n",
    "        'title': content.find_element(By.CSS_SELECTOR, '.media__message .ga-link').text,\n",
    "        'link' : contents[0].find_element(By.CSS_SELECTOR, '.media__message .ga-link').get_attribute('href')\n",
    "    })"
   ]
  },
  {
   "cell_type": "code",
   "execution_count": 32,
   "id": "ada149b0",
   "metadata": {},
   "outputs": [
    {
     "data": {
      "text/html": [
       "<div>\n",
       "<style scoped>\n",
       "    .dataframe tbody tr th:only-of-type {\n",
       "        vertical-align: middle;\n",
       "    }\n",
       "\n",
       "    .dataframe tbody tr th {\n",
       "        vertical-align: top;\n",
       "    }\n",
       "\n",
       "    .dataframe thead th {\n",
       "        text-align: right;\n",
       "    }\n",
       "</style>\n",
       "<table border=\"1\" class=\"dataframe\">\n",
       "  <thead>\n",
       "    <tr style=\"text-align: right;\">\n",
       "      <th></th>\n",
       "      <th>title</th>\n",
       "      <th>link</th>\n",
       "    </tr>\n",
       "  </thead>\n",
       "  <tbody>\n",
       "    <tr>\n",
       "      <th>0</th>\n",
       "      <td>스페인어의 역사 - 일란 스타반스(Ilan Stavans)</td>\n",
       "      <td>https://www.ted.com/talks/ilan_stavans_a_brief...</td>\n",
       "    </tr>\n",
       "    <tr>\n",
       "      <th>1</th>\n",
       "      <td>암흑 물질의 수수께끼를 해결하는 방법</td>\n",
       "      <td>https://www.ted.com/talks/ilan_stavans_a_brief...</td>\n",
       "    </tr>\n",
       "    <tr>\n",
       "      <th>2</th>\n",
       "      <td>알코올은 어떻게 숙취를 일으킬까요?</td>\n",
       "      <td>https://www.ted.com/talks/ilan_stavans_a_brief...</td>\n",
       "    </tr>\n",
       "    <tr>\n",
       "      <th>3</th>\n",
       "      <td>가장 살기 좋은 나라는 어디일까?</td>\n",
       "      <td>https://www.ted.com/talks/ilan_stavans_a_brief...</td>\n",
       "    </tr>\n",
       "    <tr>\n",
       "      <th>4</th>\n",
       "      <td>높은 고도가 당신의 몸에 미치는 영향 - 앤드류 러버링(Andrew Lovering)</td>\n",
       "      <td>https://www.ted.com/talks/ilan_stavans_a_brief...</td>\n",
       "    </tr>\n",
       "  </tbody>\n",
       "</table>\n",
       "</div>"
      ],
      "text/plain": [
       "                                             title  \\\n",
       "0                 스페인어의 역사 - 일란 스타반스(Ilan Stavans)   \n",
       "1                             암흑 물질의 수수께끼를 해결하는 방법   \n",
       "2                              알코올은 어떻게 숙취를 일으킬까요?   \n",
       "3                               가장 살기 좋은 나라는 어디일까?   \n",
       "4  높은 고도가 당신의 몸에 미치는 영향 - 앤드류 러버링(Andrew Lovering)   \n",
       "\n",
       "                                                link  \n",
       "0  https://www.ted.com/talks/ilan_stavans_a_brief...  \n",
       "1  https://www.ted.com/talks/ilan_stavans_a_brief...  \n",
       "2  https://www.ted.com/talks/ilan_stavans_a_brief...  \n",
       "3  https://www.ted.com/talks/ilan_stavans_a_brief...  \n",
       "4  https://www.ted.com/talks/ilan_stavans_a_brief...  "
      ]
     },
     "execution_count": 32,
     "metadata": {},
     "output_type": "execute_result"
    }
   ],
   "source": [
    "df = pd.DataFrame(data)\n",
    "df.head()"
   ]
  },
  {
   "cell_type": "code",
   "execution_count": 33,
   "id": "8da51a4e",
   "metadata": {},
   "outputs": [],
   "source": [
    "driver.quit()"
   ]
  },
  {
   "cell_type": "markdown",
   "id": "152eda00",
   "metadata": {},
   "source": [
    "### 3. Headless\n",
    "- 브라우저를 화면에 띄우지 않고 메모리 상에서만 브라우저를 실행하여 크롤링하는 방법\n",
    "    - 메모리 사용이 줄어들지는 않음\n",
    "- window가 지원되지 않는 환경에서 selenium 사용이 가능\n",
    "- chrome version 60.0.0.0 이상부터 지원"
   ]
  },
  {
   "cell_type": "code",
   "execution_count": 34,
   "id": "54a05161",
   "metadata": {},
   "outputs": [
    {
     "name": "stdout",
     "output_type": "stream",
     "text": [
      "104.0.5112.81\n"
     ]
    }
   ],
   "source": [
    "# 현재 사용중인 크롬 버전 확인\n",
    "driver = webdriver.Chrome()\n",
    "version = driver.capabilities[\"browserVersion\"]\n",
    "print(version)\n",
    "driver.quit()"
   ]
  },
  {
   "cell_type": "code",
   "execution_count": 35,
   "id": "06950205",
   "metadata": {},
   "outputs": [
    {
     "name": "stdout",
     "output_type": "stream",
     "text": [
      "Join TED Recommends to get the best ideas, selected just for you\n"
     ]
    }
   ],
   "source": [
    "# headless 사용\n",
    "options = webdriver.ChromeOptions()\n",
    "options.add_argument('headless')\n",
    "\n",
    "driver = webdriver.Chrome(options=options)\n",
    "driver.get(\"https://www.ted.com/talks\")\n",
    "text = driver.find_element(By.CSS_SELECTOR, \"#banner-secondary\").text\n",
    "\n",
    "driver.quit()\n",
    "print(text)"
   ]
  }
 ],
 "metadata": {
  "kernelspec": {
   "display_name": "Python 3.9.13 64-bit",
   "language": "python",
   "name": "python3"
  },
  "language_info": {
   "codemirror_mode": {
    "name": "ipython",
    "version": 3
   },
   "file_extension": ".py",
   "mimetype": "text/x-python",
   "name": "python",
   "nbconvert_exporter": "python",
   "pygments_lexer": "ipython3",
   "version": "3.9.13"
  },
  "toc": {
   "base_numbering": 1,
   "nav_menu": {},
   "number_sections": false,
   "sideBar": true,
   "skip_h1_title": false,
   "title_cell": "Table of Contents",
   "title_sidebar": "Contents",
   "toc_cell": false,
   "toc_position": {},
   "toc_section_display": true,
   "toc_window_display": false
  },
  "vscode": {
   "interpreter": {
    "hash": "cf92aa13fedf815d5c8dd192b8d835913fde3e8bc926b2a0ad6cc74ef2ba3ca2"
   }
  }
 },
 "nbformat": 4,
 "nbformat_minor": 5
}
