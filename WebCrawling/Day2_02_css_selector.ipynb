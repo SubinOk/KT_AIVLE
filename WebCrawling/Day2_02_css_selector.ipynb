{
 "cells": [
  {
   "cell_type": "markdown",
   "metadata": {
    "slideshow": {
     "slide_type": "slide"
    }
   },
   "source": [
    "# CSS Selector\n",
    "\n",
    "CSS 셀렉터는 CSS 스타일을 적용시킬 HTML 엘리먼트를 찾기 위한 방법 입니다."
   ]
  },
  {
   "cell_type": "markdown",
   "metadata": {
    "slideshow": {
     "slide_type": "slide"
    }
   },
   "source": [
    "## 1. Element Selector\n",
    "\n",
    "- Element Tag 이름을 이용하여 선택할때 사용\n",
    "- css selector로 `span`를 사용하면 'python 3'이 선택"
   ]
  },
  {
   "cell_type": "code",
   "execution_count": null,
   "metadata": {},
   "outputs": [],
   "source": [
    "%%html\n",
    "<div id=\"kt\">\n",
    "    <div>python 1</div>\n",
    "    <p>python 2</p>\n",
    "    <span>python 3</span>\n",
    "</div>"
   ]
  },
  {
   "cell_type": "markdown",
   "metadata": {
    "slideshow": {
     "slide_type": "slide"
    }
   },
   "source": [
    "## 2. ID Selector\n",
    "\n",
    "- Tag의 id를 이용하여 선택할때 사용\n",
    "- 아이디를 셀렉할때는 `#(아이디 이름)`으로 선택\n",
    "- css selector로 `#kt2`를 사용하면 'python 2'가 선택\n",
    "- 여러개를 셀렉할때는 ,로 구분\n",
    "- css selector로 `#kt2, #kt3`를 사용하면 'python 2'와 'python 3'가 선택"
   ]
  },
  {
   "cell_type": "code",
   "execution_count": null,
   "metadata": {},
   "outputs": [],
   "source": [
    "%%html\n",
    "<div id=\"kt\">\n",
    "    <p id=\"kt1\">python 1</p>\n",
    "    <p id=\"kt2\">python 2</p>\n",
    "    <p id=\"kt3\">python 3</p>\n",
    "</div>"
   ]
  },
  {
   "cell_type": "markdown",
   "metadata": {
    "slideshow": {
     "slide_type": "slide"
    }
   },
   "source": [
    "## 3. Class Selector\n",
    "\n",
    "- Tag의 class를 이용하여 선택할때 사용\n",
    "- 클래스를 셀렉할때는 `.(클래스 이름)`으로 선택\n",
    "- 엘리멘트를 그룹핑하여 스타일을 적용할때 사용\n",
    "- css selector로 `.kt`를 사용하면 'python 1', 'python 2', 'python 3' 모두 선택"
   ]
  },
  {
   "cell_type": "code",
   "execution_count": null,
   "metadata": {},
   "outputs": [],
   "source": [
    "%%html\n",
    "<div id=\"kt\">\n",
    "    <p class=\"kt kt1\">python 1</p>\n",
    "    <p class=\"kt kt2\">python 2</p>\n",
    "    <p class=\"kt kt3\">python 3</p>\n",
    "</div>"
   ]
  },
  {
   "cell_type": "markdown",
   "metadata": {
    "slideshow": {
     "slide_type": "slide"
    }
   },
   "source": [
    "## 4. Attr Selector\n",
    "\n",
    "- Tag의 attribute를 이용하여 선택할때 사용\n",
    "- value를 셀렉할때는 `[value=\"값\"]`으로 선택\n",
    "- css selector로 `[value=\"\"no1]`를 사용하면 'python 1' 선택"
   ]
  },
  {
   "cell_type": "code",
   "execution_count": null,
   "metadata": {},
   "outputs": [],
   "source": [
    "%%html\n",
    "<p value=\"no1\">python 1</p>\n",
    "<p value=\"no2\">python 2</p>\n",
    "<p value=\"no3\">python 3</p>"
   ]
  },
  {
   "cell_type": "markdown",
   "metadata": {},
   "source": [
    "## 5. 여러 개의 엘리먼트 선택"
   ]
  },
  {
   "cell_type": "markdown",
   "metadata": {
    "slideshow": {
     "slide_type": "slide"
    }
   },
   "source": [
    "### 5-1. not Selector\n",
    "\n",
    "- 셀렉터로 엘리먼트를 하나만 제외하고 싶을때 사용\n",
    "- not을 사용하여 셀렉트 할때에는 `:not(선택에서 제거하고 싶은 셀렉터)`으로 선택\n",
    "- 아래의 HTML에서 `.no:not(.no2)`으로 셀렉트 하면 class가 no2인 클래스를 제외 하고 나머지 no1, no3가 선택"
   ]
  },
  {
   "cell_type": "code",
   "execution_count": null,
   "metadata": {},
   "outputs": [],
   "source": [
    "%%html\n",
    "<p class=\"no no1\">ds1</p>\n",
    "<p class=\"no no2\">ds2</p>\n",
    "<p class=\"no no3\">ds3</p>"
   ]
  },
  {
   "cell_type": "markdown",
   "metadata": {
    "slideshow": {
     "slide_type": "slide"
    }
   },
   "source": [
    "### 5-2. nth-child Selector\n",
    "\n",
    "- 엘리먼트로 감싸져있는 n번째 엘리먼트가 설정한 셀렉터와 일치하면 선택\n",
    "    - .py 엘리먼트 중에서 2번째(x)\n",
    "    - 2번째 엘리먼트 중에서 .py 클래스를 갖는 것(o)\n",
    "- `.(class name):nth-child(n)`\n",
    "- `.py:nth-child(2)`로 설정하면 'pyhton 2' 선택\n",
    "- `nth-child`의 ()안의 숫자는 가장 첫번째가 0이 아니라 1로 시작"
   ]
  },
  {
   "cell_type": "code",
   "execution_count": null,
   "metadata": {},
   "outputs": [],
   "source": [
    "%%html\n",
    "<div>\n",
    "    <p class=\"py py1\">python 1</p>\n",
    "    <p class=\"py py2\">python 2</p>\n",
    "    <p class=\"py py3\">python 3</p>\n",
    "</div>"
   ]
  },
  {
   "cell_type": "markdown",
   "metadata": {
    "slideshow": {
     "slide_type": "slide"
    }
   },
   "source": [
    "### 5-3. first-child Selector\n",
    "\n",
    "- 엘리먼트로 감싸져있는 가장 처음 엘리먼트가 설정한 셀렉터와 일치하면 선택\n",
    "- `.ds:first-child`로 설정하면 ds1과 ds3가 선택\n",
    "- `div.ds` 엘리먼트의 가장 처음 `.ds`를 선택하고 싶으면 `div.ds > .ds:first-child`로 셀렉터를 작성"
   ]
  },
  {
   "cell_type": "code",
   "execution_count": null,
   "metadata": {},
   "outputs": [],
   "source": [
    "%%html\n",
    "<body>\n",
    "    <p class=\"ds\" id=\"ds1\">ds1</p>\n",
    "    <p class=\"sc\" id=\"ds2\">ds2</p>\n",
    "\n",
    "    <div class=\"ds\">\n",
    "        <p class=\"ds ds1\">ds3</p>\n",
    "        <p class=\"ds ds2\">ds4</p>\n",
    "        <p class=\"ds ds3\">ds5</p>\n",
    "        <p class=\"ds ds4\">ds6</p>\n",
    "        <p class=\"ds ds5\">ds7</p>\n",
    "    </div>\n",
    "</body>"
   ]
  },
  {
   "cell_type": "markdown",
   "metadata": {
    "slideshow": {
     "slide_type": "slide"
    }
   },
   "source": [
    "### 5-4. last-child Selector\n",
    "\n",
    "- 엘리먼트로 감싸져있는 가장 마지막 엘리먼트가 설정한 셀렉터와 일치하면 선택\n",
    "- `.ds:last-child`로 `div.ds`가 선택되어 ds3~ds7이 선택"
   ]
  },
  {
   "cell_type": "code",
   "execution_count": null,
   "metadata": {},
   "outputs": [],
   "source": [
    "%%html\n",
    "<body>\n",
    "    <p class=\"ds\" id=\"ds1\">ds1</p>\n",
    "    <p class=\"sc\" id=\"ds2\">ds2</p>\n",
    "\n",
    "    <div class=\"ds\">\n",
    "        <p class=\"ds ds1\">ds3</p>\n",
    "        <p class=\"ds ds2\">ds4</p>\n",
    "        <p class=\"ds ds3\">ds5</p>\n",
    "        <p class=\"ds ds4\">ds6</p>\n",
    "        <p class=\"ds ds5\">ds7</p>\n",
    "    </div>\n",
    "</body>"
   ]
  },
  {
   "cell_type": "markdown",
   "metadata": {},
   "source": [
    "### 5-5. 괄호를 사용해 선택\n",
    "- 콤마로 연결하는 모든 엘리먼트 선택\n",
    "- `.py1, .py3`: python1, python 3 선택"
   ]
  },
  {
   "cell_type": "code",
   "execution_count": null,
   "metadata": {},
   "outputs": [],
   "source": [
    "%%html\n",
    "<div>\n",
    "    <p class=\"py1\">python 1</p>\n",
    "    <p class=\"py2\">python 2</p>\n",
    "    <p class=\"py3\">python 3</p>\n",
    "</div>"
   ]
  },
  {
   "cell_type": "markdown",
   "metadata": {},
   "source": [
    "## 6. 계층적으로 엘리먼트 선택"
   ]
  },
  {
   "cell_type": "markdown",
   "metadata": {
    "slideshow": {
     "slide_type": "slide"
    }
   },
   "source": [
    "### 6-1. 모든 하위 depth(공백) Selector\n",
    "\n",
    "- 공백문자로 하위 엘리먼트를 셀렉트 했을때, 모든 하위 엘리먼트를 선택\n",
    "- `.wrap p`: inner_1, inner_2가 선택"
   ]
  },
  {
   "cell_type": "code",
   "execution_count": null,
   "metadata": {},
   "outputs": [],
   "source": [
    "%%html\n",
    "<div class=\"wrap\">\n",
    "    <p>inner_1</p>\n",
    "    <div>\n",
    "        <p>inner_2</p>\n",
    "    </div>\n",
    "</div>"
   ]
  },
  {
   "cell_type": "markdown",
   "metadata": {
    "slideshow": {
     "slide_type": "slide"
    }
   },
   "source": [
    "### 6-3. 바로 아래 depth(>) Selector\n",
    "\n",
    "- `>`문자로 하위 엘리먼트를 셀렉트 했을때, 바로 아래 엘리먼트를 선택\n",
    "- `.wrap > p`를 선택하면 inner_1이 선택"
   ]
  },
  {
   "cell_type": "code",
   "execution_count": null,
   "metadata": {},
   "outputs": [],
   "source": [
    "%%html\n",
    "<div class=\"wrap\">\n",
    "    <p>inner_1</p>\n",
    "    <div>\n",
    "        <p>inner_2</p>\n",
    "    </div>\n",
    "</div>"
   ]
  }
 ],
 "metadata": {
  "kernelspec": {
   "display_name": "Python 3.9.13 64-bit",
   "language": "python",
   "name": "python3"
  },
  "language_info": {
   "codemirror_mode": {
    "name": "ipython",
    "version": 3
   },
   "file_extension": ".py",
   "mimetype": "text/x-python",
   "name": "python",
   "nbconvert_exporter": "python",
   "pygments_lexer": "ipython3",
   "version": "3.9.13"
  },
  "toc": {
   "base_numbering": 1,
   "nav_menu": {},
   "number_sections": false,
   "sideBar": true,
   "skip_h1_title": false,
   "title_cell": "Table of Contents",
   "title_sidebar": "Contents",
   "toc_cell": false,
   "toc_position": {},
   "toc_section_display": true,
   "toc_window_display": false
  },
  "varInspector": {
   "cols": {
    "lenName": 16,
    "lenType": 16,
    "lenVar": 40
   },
   "kernels_config": {
    "python": {
     "delete_cmd_postfix": "",
     "delete_cmd_prefix": "del ",
     "library": "var_list.py",
     "varRefreshCmd": "print(var_dic_list())"
    },
    "r": {
     "delete_cmd_postfix": ") ",
     "delete_cmd_prefix": "rm(",
     "library": "var_list.r",
     "varRefreshCmd": "cat(var_dic_list()) "
    }
   },
   "types_to_exclude": [
    "module",
    "function",
    "builtin_function_or_method",
    "instance",
    "_Feature"
   ],
   "window_display": false
  },
  "vscode": {
   "interpreter": {
    "hash": "cf92aa13fedf815d5c8dd192b8d835913fde3e8bc926b2a0ad6cc74ef2ba3ca2"
   }
  }
 },
 "nbformat": 4,
 "nbformat_minor": 2
}
