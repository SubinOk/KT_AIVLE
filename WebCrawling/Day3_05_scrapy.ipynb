{
 "cells": [
  {
   "cell_type": "markdown",
   "id": "b12537ef",
   "metadata": {},
   "source": [
    "## scrapy\n",
    "- 웹사이트에서 데이터 수집을 위한 오픈소스 파이썬 프레임워크\n",
    "- 비동기 방식으로 데이터 수집 > 데이터 수집 속도가 빠름\n",
    "    - 멀티스레딩으로 데이터 수집"
   ]
  },
  {
   "cell_type": "code",
   "execution_count": 1,
   "id": "c8df8471",
   "metadata": {},
   "outputs": [],
   "source": [
    "# install scrapy\n",
    "#!pip install scrapy"
   ]
  },
  {
   "cell_type": "markdown",
   "id": "bb822577",
   "metadata": {},
   "source": [
    "### Gmarket 베스트 200 상품 데이터 수집"
   ]
  },
  {
   "cell_type": "code",
   "execution_count": 1,
   "id": "3aac82cb",
   "metadata": {},
   "outputs": [],
   "source": [
    "import scrapy, requests\n",
    "from scrapy.http import TextResponse"
   ]
  },
  {
   "cell_type": "code",
   "execution_count": 2,
   "id": "e90ab90f",
   "metadata": {},
   "outputs": [],
   "source": [
    "# 1. 스크레피 프로젝트 생성\n",
    "# scrapy startproject 'project name': project dir + 코드 생성"
   ]
  },
  {
   "cell_type": "code",
   "execution_count": null,
   "id": "f1e2621a",
   "metadata": {},
   "outputs": [],
   "source": [
    "!scrapy startproject gmarket"
   ]
  },
  {
   "cell_type": "code",
   "execution_count": null,
   "id": "a5c11b2c",
   "metadata": {},
   "outputs": [],
   "source": [
    "!tree gmarket /f"
   ]
  },
  {
   "cell_type": "markdown",
   "id": "cac6776b",
   "metadata": {},
   "source": [
    "scrapy 프로젝트 내 파일 설명\n",
    "- items.py : 수집할 데이터의 구조 정의\n",
    "- middewares : 데이터를 수집할 때 headers 정보와 같은 내용을 설정\n",
    "- pipelines : 데이터를 수집한 후에 코드 실행 정의\n",
    "- settings : 크롤링 설정: robots.txt 규칙 준수 여부, 크롤링 시간 간격 등을 설정\n",
    "- spiders : 디렉토리 : 크롤링 절차 정의"
   ]
  },
  {
   "cell_type": "code",
   "execution_count": 6,
   "id": "5f97e6dc",
   "metadata": {},
   "outputs": [],
   "source": [
    "# 2. xpath 찾기 : 링크, 상세 페이지의 데이터"
   ]
  },
  {
   "cell_type": "code",
   "execution_count": 2,
   "id": "38ce6ad8",
   "metadata": {},
   "outputs": [],
   "source": [
    "# 링크 데이터 수집\n",
    "url = 'http://corners.gmarket.co.kr/Bestsellers'\n",
    "request = requests.get(url)\n",
    "response = TextResponse(request.url, body=request.text, encoding=\"utf-8\")"
   ]
  },
  {
   "cell_type": "code",
   "execution_count": 3,
   "id": "2126e011",
   "metadata": {},
   "outputs": [
    {
     "data": {
      "text/plain": [
       "['http://item.gmarket.co.kr/Item?goodscode=2519604129&ver=637953135767395634',\n",
       " 'http://item.gmarket.co.kr/Item?goodscode=2520466046&ver=637953135767395634']"
      ]
     },
     "execution_count": 3,
     "metadata": {},
     "output_type": "execute_result"
    }
   ],
   "source": [
    "links = response.xpath('//*[@id=\"gBestWrap\"]/div/div[3]/div/ul/li/a/@href').extract()\n",
    "# @href 속성값 가져오기\n",
    "\n",
    "links[:2]"
   ]
  },
  {
   "cell_type": "code",
   "execution_count": 4,
   "id": "521b6caa",
   "metadata": {},
   "outputs": [
    {
     "data": {
      "text/plain": [
       "('브라운 면도기 세정액 CCR5+1 ', '25,030')"
      ]
     },
     "execution_count": 4,
     "metadata": {},
     "output_type": "execute_result"
    }
   ],
   "source": [
    "# 상세 데이터 : 상품명, 가격\n",
    "link = links[0]\n",
    "request = requests.get(link)\n",
    "response = TextResponse(request.url, body=request.text, encoding=\"utf-8\")\n",
    "\n",
    "# 결과 데이터는 항상 리스트 형태 -> [0] 선택\n",
    "title = response.xpath('//*[@id=\"itemcase_basic\"]/div/h1/text()')[0].extract() \n",
    "price = response.xpath('//*[@id=\"itemcase_basic\"]/div[1]/p/span/strong/text()')[0].extract()\n",
    "title, price"
   ]
  },
  {
   "cell_type": "code",
   "execution_count": 14,
   "id": "6a073246",
   "metadata": {},
   "outputs": [],
   "source": [
    "# 3. items.py : 코드 작성 : model(데이터의 구조: 수집할 데이터의 컬럼 정의)"
   ]
  },
  {
   "cell_type": "code",
   "execution_count": 6,
   "id": "8bbe5105",
   "metadata": {},
   "outputs": [
    {
     "name": "stdout",
     "output_type": "stream",
     "text": [
      "Overwriting gmarket/gmarket/items.py\n"
     ]
    }
   ],
   "source": [
    "%%writefile gmarket/gmarket/items.py\n",
    "import scrapy\n",
    "\n",
    "class GmarketItem(scrapy.Item):\n",
    "    title = scrapy.Field()\n",
    "    price = scrapy.Field()\n",
    "    link = scrapy.Field()"
   ]
  },
  {
   "cell_type": "code",
   "execution_count": 16,
   "id": "4d0aa7e1",
   "metadata": {},
   "outputs": [],
   "source": [
    "# 4. spider.py : 코드 작성 : 크롤링 절차 정의"
   ]
  },
  {
   "cell_type": "code",
   "execution_count": 5,
   "id": "662ebb53",
   "metadata": {},
   "outputs": [
    {
     "name": "stdout",
     "output_type": "stream",
     "text": [
      "Writing gmarket/gmarket/spiders/spider.py\n"
     ]
    }
   ],
   "source": [
    "%%writefile gmarket/gmarket/spiders/spider.py\n",
    "import scrapy\n",
    "from gmarket.items import GmarketItem\n",
    "\n",
    "class GMSpider(scrapy.Spider):\n",
    "    name = \"GMB\" # 프로젝트 실행할 때 사용할 spider 이름\n",
    "    allow_domain = [\"gmarket.co.kr\"] # 크롤링할 도메인 지정\n",
    "    start_urls = [\"http://corners.gmarket.co.kr/Bestsellers\"] # 최초에 request/respose할 url\n",
    "    \n",
    "    # 처음에 request하는 함수는 이름 고정\n",
    "    def parse(self, response): # start_urls에서 받은 response를 받아서 수행\n",
    "        links = response.xpath('//*[@id=\"gBestWrap\"]/div/div[3]/div/ul/li/a/@href').extract()\n",
    "        for link in links[:20]:\n",
    "            yield scrapy.Request(link, callback=self.parse_content) # yield - 실행될 때마다 return data 달라짐\n",
    "    \n",
    "    # 이후 사용되는 함수는 이름 자유 -> scrapy.Request()내 callback과 같아야함\n",
    "    def parse_content(self, response): # parse에서 받은 response를 받아서 수행\n",
    "        item = GmarketItem()\n",
    "        item[\"title\"] = response.xpath('//*[@id=\"itemcase_basic\"]/div[1]/h1/text()')[0].extract()\n",
    "        item[\"price\"] = response.xpath('//*[@id=\"itemcase_basic\"]/div[1]/p/span/strong/text()')[0].extract()\n",
    "        item[\"link\"] = response.url\n",
    "        yield item"
   ]
  },
  {
   "cell_type": "code",
   "execution_count": 18,
   "id": "bd2e1c16",
   "metadata": {},
   "outputs": [],
   "source": [
    "# 5. 스크레피 프로젝트 실행\n",
    "# cd: change directory / -o: output\n",
    "# 터미널 -> gmarket 디렉토리에서 아래의 커멘드 실행 \n",
    "# scrapy crawl GMB -o items.csv"
   ]
  },
  {
   "cell_type": "code",
   "execution_count": null,
   "id": "a5e151ed",
   "metadata": {},
   "outputs": [],
   "source": [
    "%ls gmarket/"
   ]
  },
  {
   "cell_type": "code",
   "execution_count": 7,
   "id": "340cc375",
   "metadata": {},
   "outputs": [],
   "source": [
    "import pandas as pd"
   ]
  },
  {
   "cell_type": "code",
   "execution_count": 8,
   "id": "18610852",
   "metadata": {},
   "outputs": [
    {
     "data": {
      "text/html": [
       "<div>\n",
       "<style scoped>\n",
       "    .dataframe tbody tr th:only-of-type {\n",
       "        vertical-align: middle;\n",
       "    }\n",
       "\n",
       "    .dataframe tbody tr th {\n",
       "        vertical-align: top;\n",
       "    }\n",
       "\n",
       "    .dataframe thead th {\n",
       "        text-align: right;\n",
       "    }\n",
       "</style>\n",
       "<table border=\"1\" class=\"dataframe\">\n",
       "  <thead>\n",
       "    <tr style=\"text-align: right;\">\n",
       "      <th></th>\n",
       "      <th>link</th>\n",
       "      <th>price</th>\n",
       "      <th>title</th>\n",
       "    </tr>\n",
       "  </thead>\n",
       "  <tbody>\n",
       "    <tr>\n",
       "      <th>0</th>\n",
       "      <td>http://item.gmarket.co.kr/Item?goodscode=25196...</td>\n",
       "      <td>25,030</td>\n",
       "      <td>브라운 면도기 세정액 CCR5+1</td>\n",
       "    </tr>\n",
       "    <tr>\n",
       "      <th>1</th>\n",
       "      <td>http://item.gmarket.co.kr/Item?goodscode=20396...</td>\n",
       "      <td>49,900</td>\n",
       "      <td>1+1 2개 무선 선풍기 탁상용 미니 휴대용 캠핑용 벽걸이 사무실 선물용 가정용</td>\n",
       "    </tr>\n",
       "    <tr>\n",
       "      <th>2</th>\n",
       "      <td>http://item.gmarket.co.kr/Item?goodscode=24572...</td>\n",
       "      <td>12,000</td>\n",
       "      <td>레고 닌자고 브릭마스터 외 6종 선택구매</td>\n",
       "    </tr>\n",
       "    <tr>\n",
       "      <th>3</th>\n",
       "      <td>http://item.gmarket.co.kr/Item?goodscode=19279...</td>\n",
       "      <td>23,900</td>\n",
       "      <td>양꼬치 양깍두기 양고기 1kg  + 쯔란1봉</td>\n",
       "    </tr>\n",
       "    <tr>\n",
       "      <th>4</th>\n",
       "      <td>http://item.gmarket.co.kr/Item?goodscode=16359...</td>\n",
       "      <td>9,900</td>\n",
       "      <td>아삭아삭 미니 오이 20개 /2개주문시 50개발송</td>\n",
       "    </tr>\n",
       "  </tbody>\n",
       "</table>\n",
       "</div>"
      ],
      "text/plain": [
       "                                                link   price  \\\n",
       "0  http://item.gmarket.co.kr/Item?goodscode=25196...  25,030   \n",
       "1  http://item.gmarket.co.kr/Item?goodscode=20396...  49,900   \n",
       "2  http://item.gmarket.co.kr/Item?goodscode=24572...  12,000   \n",
       "3  http://item.gmarket.co.kr/Item?goodscode=19279...  23,900   \n",
       "4  http://item.gmarket.co.kr/Item?goodscode=16359...   9,900   \n",
       "\n",
       "                                           title  \n",
       "0                            브라운 면도기 세정액 CCR5+1   \n",
       "1  1+1 2개 무선 선풍기 탁상용 미니 휴대용 캠핑용 벽걸이 사무실 선물용 가정용   \n",
       "2                        레고 닌자고 브릭마스터 외 6종 선택구매   \n",
       "3                      양꼬치 양깍두기 양고기 1kg  + 쯔란1봉   \n",
       "4                   아삭아삭 미니 오이 20개 /2개주문시 50개발송   "
      ]
     },
     "execution_count": 8,
     "metadata": {},
     "output_type": "execute_result"
    }
   ],
   "source": [
    "df = pd.read_csv(\"gmarket/items.csv\")\n",
    "df.head()"
   ]
  }
 ],
 "metadata": {
  "kernelspec": {
   "display_name": "Python 3.9.13 64-bit",
   "language": "python",
   "name": "python3"
  },
  "language_info": {
   "codemirror_mode": {
    "name": "ipython",
    "version": 3
   },
   "file_extension": ".py",
   "mimetype": "text/x-python",
   "name": "python",
   "nbconvert_exporter": "python",
   "pygments_lexer": "ipython3",
   "version": "3.9.13"
  },
  "toc": {
   "base_numbering": 1,
   "nav_menu": {},
   "number_sections": false,
   "sideBar": true,
   "skip_h1_title": false,
   "title_cell": "Table of Contents",
   "title_sidebar": "Contents",
   "toc_cell": false,
   "toc_position": {},
   "toc_section_display": true,
   "toc_window_display": false
  },
  "vscode": {
   "interpreter": {
    "hash": "cf92aa13fedf815d5c8dd192b8d835913fde3e8bc926b2a0ad6cc74ef2ba3ca2"
   }
  }
 },
 "nbformat": 4,
 "nbformat_minor": 5
}
