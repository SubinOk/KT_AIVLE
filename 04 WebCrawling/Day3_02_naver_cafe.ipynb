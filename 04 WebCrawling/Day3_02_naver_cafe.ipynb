{
 "cells": [
  {
   "cell_type": "markdown",
   "metadata": {},
   "source": [
    "### 네이버 중고나라 게시글 데이터 수집\n",
    "- selenium에서 iframe에 있는 데이터 수집\n",
    "- https://cafe.naver.com/joonggonara"
   ]
  },
  {
   "cell_type": "code",
   "execution_count": 3,
   "metadata": {},
   "outputs": [],
   "source": [
    "import numpy as np\n",
    "import pandas as pd\n",
    "\n",
    "from selenium import webdriver\n",
    "from selenium.webdriver.common.by import By"
   ]
  },
  {
   "cell_type": "code",
   "execution_count": 28,
   "metadata": {},
   "outputs": [],
   "source": [
    "# 1. 웹 브라우저 열기 및 페이지 이동\n",
    "url = 'https://cafe.naver.com/joonggonara'\n",
    "\n",
    "driver = webdriver.Chrome()\n",
    "driver.get(url)"
   ]
  },
  {
   "cell_type": "code",
   "execution_count": 29,
   "metadata": {},
   "outputs": [],
   "source": [
    "# 2. 검색창에 검색어를 입력하고 검색 버튼 클릭\n",
    "keyword = '베이스 이팩터'\n",
    "search = driver.find_element(By.CSS_SELECTOR, '#topLayerQueryInput').send_keys(keyword)\n",
    "driver.execute_script('searchBoard();')"
   ]
  },
  {
   "cell_type": "code",
   "execution_count": 17,
   "metadata": {},
   "outputs": [],
   "source": [
    "# 원래 default frame으로 이동\n",
    "# driver.switch_to.default_content()"
   ]
  },
  {
   "cell_type": "code",
   "execution_count": 30,
   "metadata": {},
   "outputs": [
    {
     "data": {
      "text/plain": [
       "15"
      ]
     },
     "execution_count": 30,
     "metadata": {},
     "output_type": "execute_result"
    }
   ],
   "source": [
    "# 3. 게시글 목록 데이터 수집 : iframe이 있는 경우 iframe으로 driver 이동\n",
    "iframe = driver.find_element(By.CSS_SELECTOR, '#cafe_main')\n",
    "driver.switch_to.frame(iframe)\n",
    "\n",
    "contents = driver.find_elements(By.CSS_SELECTOR, '.article-board > table > tbody > tr')\n",
    "len(contents)"
   ]
  },
  {
   "cell_type": "code",
   "execution_count": 31,
   "metadata": {},
   "outputs": [],
   "source": [
    "# 데이터 프레임으로 만들기\n",
    "data = []\n",
    "for content in contents:\n",
    "    data.append({\n",
    "        'title': content.find_element(By.CSS_SELECTOR, '.article').text,\n",
    "        'writer': content.find_element(By.CSS_SELECTOR, '.p-nick').text,\n",
    "        'date': content.find_element(By.CSS_SELECTOR, '.td_date').text,\n",
    "    })"
   ]
  },
  {
   "cell_type": "code",
   "execution_count": 32,
   "metadata": {},
   "outputs": [
    {
     "data": {
      "text/html": [
       "<div>\n",
       "<style scoped>\n",
       "    .dataframe tbody tr th:only-of-type {\n",
       "        vertical-align: middle;\n",
       "    }\n",
       "\n",
       "    .dataframe tbody tr th {\n",
       "        vertical-align: top;\n",
       "    }\n",
       "\n",
       "    .dataframe thead th {\n",
       "        text-align: right;\n",
       "    }\n",
       "</style>\n",
       "<table border=\"1\" class=\"dataframe\">\n",
       "  <thead>\n",
       "    <tr style=\"text-align: right;\">\n",
       "      <th></th>\n",
       "      <th>title</th>\n",
       "      <th>writer</th>\n",
       "      <th>date</th>\n",
       "    </tr>\n",
       "  </thead>\n",
       "  <tbody>\n",
       "    <tr>\n",
       "      <th>0</th>\n",
       "      <td>ZOOM B2 베이스 멀티이팩터 판매</td>\n",
       "      <td>suwhale</td>\n",
       "      <td>2022.07.27.</td>\n",
       "    </tr>\n",
       "    <tr>\n",
       "      <th>1</th>\n",
       "      <td>베이스키타 이팩터 팝니다 4만</td>\n",
       "      <td>리듬여행</td>\n",
       "      <td>2022.02.14.</td>\n",
       "    </tr>\n",
       "    <tr>\n",
       "      <th>2</th>\n",
       "      <td>베이스키타 이팩터 팝니다 4만</td>\n",
       "      <td>리듬여행</td>\n",
       "      <td>2022.02.11.</td>\n",
       "    </tr>\n",
       "    <tr>\n",
       "      <th>3</th>\n",
       "      <td>트레이스엘리엇 transit B 베이스멀티 이팩터 판매합니다</td>\n",
       "      <td>oO구름Oo</td>\n",
       "      <td>2021.12.01.</td>\n",
       "    </tr>\n",
       "    <tr>\n",
       "      <th>4</th>\n",
       "      <td>[공식앱][베이스기타 이팩터 보드][400,000원]</td>\n",
       "      <td>은진</td>\n",
       "      <td>2021.06.13.</td>\n",
       "    </tr>\n",
       "  </tbody>\n",
       "</table>\n",
       "</div>"
      ],
      "text/plain": [
       "                               title   writer         date\n",
       "0               ZOOM B2 베이스 멀티이팩터 판매  suwhale  2022.07.27.\n",
       "1                   베이스키타 이팩터 팝니다 4만     리듬여행  2022.02.14.\n",
       "2                   베이스키타 이팩터 팝니다 4만     리듬여행  2022.02.11.\n",
       "3  트레이스엘리엇 transit B 베이스멀티 이팩터 판매합니다   oO구름Oo  2021.12.01.\n",
       "4      [공식앱][베이스기타 이팩터 보드][400,000원]       은진  2021.06.13."
      ]
     },
     "execution_count": 32,
     "metadata": {},
     "output_type": "execute_result"
    }
   ],
   "source": [
    "df = pd.DataFrame(data)\n",
    "df.head()"
   ]
  },
  {
   "cell_type": "code",
   "execution_count": 33,
   "metadata": {},
   "outputs": [],
   "source": [
    "# 4. 웹브라우저 종료\n",
    "driver.quit()"
   ]
  }
 ],
 "metadata": {
  "kernelspec": {
   "display_name": "Python 3.9.13 64-bit",
   "language": "python",
   "name": "python3"
  },
  "language_info": {
   "codemirror_mode": {
    "name": "ipython",
    "version": 3
   },
   "file_extension": ".py",
   "mimetype": "text/x-python",
   "name": "python",
   "nbconvert_exporter": "python",
   "pygments_lexer": "ipython3",
   "version": "3.9.13"
  },
  "orig_nbformat": 4,
  "vscode": {
   "interpreter": {
    "hash": "cf92aa13fedf815d5c8dd192b8d835913fde3e8bc926b2a0ad6cc74ef2ba3ca2"
   }
  }
 },
 "nbformat": 4,
 "nbformat_minor": 2
}
